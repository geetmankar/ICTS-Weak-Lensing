{
 "cells": [
  {
   "cell_type": "code",
   "execution_count": 1,
   "metadata": {},
   "outputs": [],
   "source": [
    "import numpy as np\n",
    "from sklearn.neighbors import BallTree\n",
    "# from sklearn.metrics.pairwise import haversine_distances # no need!\n",
    "import astropy.cosmology as ac\n",
    "from typing import Any \n",
    "\n",
    "import time, sys\n",
    "DEBUG = 1"
   ]
  },
  {
   "cell_type": "code",
   "execution_count": 6,
   "metadata": {},
   "outputs": [],
   "source": [
    "def get_neighbour_indices(z: float, cat: Any, cm: ac.Cosmology, center_point: Any, b: float = 10.) -> Any:\n",
    "\n",
    "    # Checks:\n",
    "    # NOTE: for compatibility with sklearn's `query_radius` function, which accepts \n",
    "    # multiple center points, argument `center_point` must be a 2d array, allowing \n",
    "    # multiple queries.\n",
    "    assert isinstance(z, (int, float)), 'redshift must be a number'\n",
    "    assert z + 1. > 0., 'redshift must be greater than -1' \n",
    "    assert np.ndim( cat ) == 2, 'catalog must be a 2D array'\n",
    "    assert np.size( cat, 1 ) == 2, 'catalog must have exactly 2 freatures'\n",
    "    assert isinstance( cm, ac.Cosmology ), '`cm` must be a astropy `Cosmology` object' \n",
    "    assert np.ndim( center_point ) == 2, '`center_point` must be a 2D array'\n",
    "    assert np.size( center_point, 1 ) == 2, '`center_point` must have exactly 2 freatures'\n",
    "\n",
    "    # calculate the value of the comoving distance corresponding to `z` in Mpc\n",
    "    # astropy returns value as `Quantity` object and extract the value from it!\n",
    "    x = cm.comoving_distance( z ).value\n",
    "\n",
    "    # compute the angular distance in radian, corresponding to `x` radius\n",
    "    theta = b / x\n",
    "\n",
    "    # build the ball tree using the given angular coordinates. the first feature \n",
    "    # should be the `dec` and the other is `ra`, both in radians\n",
    "    # \n",
    "    # NOTE: using the conversion ra == tongitude and dec == latitude\n",
    "    if DEBUG:\n",
    "        __t0 = time.time()\n",
    "    bt = BallTree( cat, leaf_size = 10, metric = 'haversine' )\n",
    "    if DEBUG:\n",
    "        print(f\"Time to create tree for {np.size(cat, 0):,} objects: {time.time() - __t0:.3g} sec\")\n",
    "        print(f\"Size of the ball-tree object: {sys.getsizeof(bt):,} bytes\")\n",
    "\n",
    "    # search for nearest neighbors in `theta` distance from the center point\n",
    "    if DEBUG:\n",
    "        __t0 = time.time()\n",
    "    nnids, dist = bt.query_radius( center_point, theta, return_distance = True )\n",
    "    print(f\"Time to searching tree for {np.size(center_point, 0)} objects: {time.time() - __t0:.3g} sec\")\n",
    "\n",
    "    return nnids, dist\n",
    "\n"
   ]
  },
  {
   "cell_type": "code",
   "execution_count": 3,
   "metadata": {},
   "outputs": [],
   "source": [
    "def haversine_distance(x, y):\n",
    "\n",
    "    return 2. * np.arcsin( \n",
    "            np.sqrt( \n",
    "                np.sin(0.5*(x[0] - y[0]))**2 + np.cos(x[0]) * np.cos(y[0]) * np.sin(0.5*(x[1] - y[1]))**2 \n",
    "                ) \n",
    "            )\n"
   ]
  },
  {
   "cell_type": "code",
   "execution_count": 8,
   "metadata": {},
   "outputs": [
    {
     "name": "stdout",
     "output_type": "stream",
     "text": [
      "Time to create tree for 100,000,000 objects: 460 sec\n",
      "Size of the ball-tree object: 1,184 bytes\n",
      "Time to searching tree for 10 objects: 32.8 sec\n"
     ]
    }
   ],
   "source": [
    "# using a redshift closer to 0 to get a large angle\n",
    "z = 0.005\n",
    "\n",
    "# using 1000 random points on the sphere as galaxies\n",
    "cat = np.random.uniform( [-np.pi/2., 0.], [np.pi/2., 2*np.pi], size = [100_000_000, 2] ) \n",
    "\n",
    "# using a flat lcdm model cosmology\n",
    "cm  = ac.FlatLambdaCDM(H0 = 70.0, Om0 = 0.3, Tcmb0 = 2.725, Ob0 = 0.05)\n",
    "\n",
    "# find the neighbours around random point\n",
    "p = np.random.uniform( [-np.pi/2., 0.], [np.pi/2., 2*np.pi], size = [10, 2] )\n",
    "j, dj = get_neighbour_indices( z = z, cat = cat, cm = cm, center_point = p )"
   ]
  },
  {
   "cell_type": "code",
   "execution_count": 14,
   "metadata": {},
   "outputs": [
    {
     "data": {
      "image/png": "[encoded data removed]",
      "text/plain": [
       "<Figure size 640x480 with 1 Axes>"
      ]
     },
     "metadata": {},
     "output_type": "display_data"
    }
   ],
   "source": [
    "import matplotlib.pyplot as plt\n",
    "\n",
    "plt.figure()\n",
    "\n",
    "plt.plot( cat[:,1], cat[:,0], 'o', ms = 1, color = 'blue' )  # plot the catalog\n",
    "\n",
    "n_points = len( p )\n",
    "for i in range( n_points ):\n",
    "    val = (i + 1) / (n_points+1)\n",
    "    plt.plot( p[i,1],      p[i,0],      'o', ms = 2, color = (val, 0., 0.) ) # test points\n",
    "    plt.plot( cat[j[i],1], cat[j[i],0], 'o', ms = 2, color = (0., val, 0.) ) # neighbors\n",
    "\n",
    "plt.show()"
   ]
  },
  {
   "cell_type": "code",
   "execution_count": 15,
   "metadata": {},
   "outputs": [
    {
     "name": "stdout",
     "output_type": "stream",
     "text": [
      "True\n",
      "True\n"
     ]
    }
   ],
   "source": [
    "n_points = len( p )\n",
    "for i in range( n_points ):\n",
    "    d0 = dj[i]\n",
    "    d1 = [haversine_distance(q, p[i]) for q in cat[j[i]]]\n",
    "    print( np.allclose( d0, d1 ) )"
   ]
  }
 ],
 "metadata": {
  "kernelspec": {
   "display_name": "Python 3",
   "language": "python",
   "name": "python3"
  },
  "language_info": {
   "codemirror_mode": {
    "name": "ipython",
    "version": 3
   },
   "file_extension": ".py",
   "mimetype": "text/x-python",
   "name": "python",
   "nbconvert_exporter": "python",
   "pygments_lexer": "ipython3",
   "version": "3.10.6"
  },
  "orig_nbformat": 4
 },
 "nbformat": 4,
 "nbformat_minor": 2
}
