{
 "cells": [
  {
   "cell_type": "code",
   "execution_count": 36,
   "metadata": {},
   "outputs": [],
   "source": [
    "import h5py\n",
    "import time\n",
    "import numpy as np\n",
    "import matplotlib.pyplot as plt\n",
    "import pandas as pd\n",
    "import deepdish as dd\n",
    "from astropy import units as u\n",
    "import astropy.coordinates as coord"
   ]
  },
  {
   "cell_type": "code",
   "execution_count": 2,
   "metadata": {},
   "outputs": [],
   "source": [
    "from matplotlib import rc, rcParams\n",
    "rc_params = {'axes.labelsize': 20,\n",
    "             'axes.titlesize': 20,\n",
    "             'axes.linewidth':2,\n",
    "             'font.size': 20,\n",
    "             'lines.linewidth' : 2.5,\n",
    "             'legend.fontsize': 15,\n",
    "             'xtick.labelsize': 20,\n",
    "             'ytick.labelsize': 20\n",
    "            }\n",
    "rcParams.update(rc_params)"
   ]
  },
  {
   "cell_type": "code",
   "execution_count": 19,
   "metadata": {},
   "outputs": [],
   "source": [
    "def reading_shape_data(file_data, params, shear_flag=\"unsheared\", start=0, end=1000000):\n",
    "    \"\"\"\n",
    "    file_data: open file data to the shape catalog\n",
    "    params:   name of the parameters to be read\n",
    "    shear_flag: `unsheared` or `sheared_1m`, `sheared_1p`, `sheared_2p`, `sheared_2m` (default is sheared)\n",
    "    start:    index to start from (int)\n",
    "    end:      index to end at (int)\n",
    "    \"\"\"\n",
    "    data = {}\n",
    "    for param_key in params:\n",
    "        data[param_key] = file_data[\"catalog\"][shear_flag][param_key][start:end]\n",
    "        \n",
    "    return pd.DataFrame(data)\n",
    "    \n",
    "def reading_DNF_redshift(file_data, params, shear_flag=\"unsheared\", start=0, end=1000000):\n",
    "    \"\"\"\n",
    "    file_data: open file data to the shape catalog\n",
    "    params:   name of the parameters to be read\n",
    "    shear_flag: `unsheared` or `sheared_1m`, `sheared_1p`, `sheared_2p`, `sheared_2m` (default is sheared)\n",
    "    start:    index to start from (int)\n",
    "    end:      index to end at (int)\n",
    "    \"\"\"\n",
    "    data = {}\n",
    "    for param_key in params:\n",
    "        data[param_key] = file_data[\"catalog\"][shear_flag][param_key][start:end]\n",
    "        \n",
    "    return pd.DataFrame(data)"
   ]
  },
  {
   "cell_type": "code",
   "execution_count": 56,
   "metadata": {},
   "outputs": [],
   "source": [
    "def reading_data(shape_params, redshift_params, start, end):\n",
    "    \"\"\"\n",
    "    shape_params: list of parameter keys for shape catalog\n",
    "    redshift_params: list of redshift parameters of the sources\n",
    "    start:\n",
    "    end: \n",
    "    \"\"\"\n",
    "    \n",
    "    data1 = reading_shape_data(file_data=shape_file_data, params=shape_params, start=start, end=end)\n",
    "    data2 = reading_shape_data(file_data=redshift_file_data, params=redshift_params, start=start, end=end)\n",
    "    data1[\"zmc_sof\"] = data2[\"zmc_sof\"]\n",
    "    data1[\"zmean_sof\"] = data2[\"zmean_sof\"]\n",
    "    \n",
    "    # Metacal selection\n",
    "    data = data1\n",
    "    flags = 0\n",
    "    snr_th_lower = 10\n",
    "    snr_th_upper = 1000\n",
    "    size_ratio = 0.5\n",
    "    T = 10\n",
    "\n",
    "    idx = np.array(data[\"flags\"] == flags) & np.array(data[\"snr\"] > snr_th_lower) & \\\n",
    "                    np.array(data[\"snr\"] < snr_th_upper) & np.array(data[\"size_ratio\"] > size_ratio) & \\\n",
    "                    np.array(data[\"T\"] < T)\n",
    "    \n",
    "    data_selected = dict()\n",
    "    for key in list(data.keys()):\n",
    "        data_selected[key] = data[key].values[idx]\n",
    "        \n",
    "    return data_selected"
   ]
  },
  {
   "cell_type": "code",
   "execution_count": 32,
   "metadata": {},
   "outputs": [],
   "source": [
    "# The parameters needed to computing differential surface density\n",
    "params1 = ['coadd_object_id', 'ra', 'dec', 'e_1', 'e_2',\\\n",
    "            'snr', 'weight', 'flags', 'size_ratio', 'T',\\\n",
    "            'R11', 'R12', 'R21', 'R22']\n",
    "params2 = ['coadd_object_id', 'zmc_sof', 'zmean_sof']"
   ]
  },
  {
   "cell_type": "code",
   "execution_count": 33,
   "metadata": {},
   "outputs": [],
   "source": [
    "file = \"/home/idies/workspace/Temporary/surhudm/scratch/DES/DESY3_metacal_v03-004.h5\"\n",
    "file_z = \"/home/idies/workspace/Temporary/surhudm/scratch/DES/DESY3_GOLD_2_2.1_DNF.h5\"\n",
    "shape_file_data = h5py.File(file, \"r\")\n",
    "redshift_file_data = h5py.File(file_z, \"r\")"
   ]
  },
  {
   "cell_type": "code",
   "execution_count": 50,
   "metadata": {},
   "outputs": [
    {
     "name": "stdout",
     "output_type": "stream",
     "text": [
      "Time taken: 8.118825 seconds!\n"
     ]
    }
   ],
   "source": [
    "t0 = time.time()\n",
    "Nsize = data[\"catalog\"][\"unsheared\"][\"e_1\"].shape[0]\n",
    "chunksize = 10000000\n",
    "for ii in range(0, Nsize//chunksize + 1):\n",
    "    start = ii*chunksize\n",
    "    end = (ii+1)*chunksize\n",
    "    data_selected = reading_data(shape_params=params1, redshift_params=params2, start=start, end=end) \n",
    "    break\n",
    "tf = time.time()\n",
    "print(\"Time taken: %f seconds!\"%(tf-t0))"
   ]
  },
  {
   "cell_type": "code",
   "execution_count": 51,
   "metadata": {},
   "outputs": [
    {
     "data": {
      "text/plain": [
       "{'coadd_object_id': array([333409903, 333409662, 333409498, ..., 271674746, 271674034,\n",
       "        271674709]),\n",
       " 'ra': array([45.00143657, 44.99728215, 45.00296337, ..., 11.22955287,\n",
       "        11.23316079, 11.21932604]),\n",
       " 'dec': array([ 3.70687739e-03,  1.04519194e-02,  1.56680017e-02, ...,\n",
       "        -2.08734328e+01, -2.08688220e+01, -2.08728184e+01]),\n",
       " 'e_1': array([ 0.49758885,  0.1619972 , -0.33943113, ...,  0.38223408,\n",
       "        -0.05246812, -0.43530219]),\n",
       " 'e_2': array([-0.46418295,  0.0837993 ,  0.51807028, ..., -0.08719109,\n",
       "         0.00283151,  0.21486723]),\n",
       " 'snr': array([ 24.92721718,  32.97813787,  20.73546637, ...,  17.80135625,\n",
       "        479.10434937,  23.83384899]),\n",
       " 'weight': array([35.10233195, 50.7918021 , 30.65967688, ..., 24.99183152,\n",
       "        48.1296227 , 31.09206975]),\n",
       " 'flags': array([0, 0, 0, ..., 0, 0, 0], dtype=int32),\n",
       " 'size_ratio': array([1.415153  , 2.73476535, 1.17707514, ..., 0.85780295, 2.31604665,\n",
       "        0.86682357]),\n",
       " 'T': array([0.54702584, 1.05471941, 0.45944809, ..., 0.34729867, 0.94667158,\n",
       "        0.35502304]),\n",
       " 'R11': array([0.84899118, 0.41541327, 0.95174677, ..., 0.06142858, 0.67235701,\n",
       "        0.88584867]),\n",
       " 'R12': array([ 0.42581963,  0.17153949,  0.06600154, ...,  0.1289804 ,\n",
       "        -0.02102355,  0.13547079]),\n",
       " 'R21': array([ 0.18883241,  0.16625044, -0.11458009, ...,  0.70148158,\n",
       "        -0.01893065,  0.15643429]),\n",
       " 'R22': array([0.54053284, 0.67197922, 0.68746362, ..., 0.35373342, 0.67992958,\n",
       "        0.46510731]),\n",
       " 'zmc_sof': array([0.32151 , 0.827251, 1.07061 , ..., 0.88282 , 0.327532, 0.668286],\n",
       "       dtype=float32),\n",
       " 'zmean_sof': array([0.4394968 , 0.93136513, 1.081116  , ..., 0.962594  , 0.3446621 ,\n",
       "        0.57219195], dtype=float32)}"
      ]
     },
     "execution_count": 51,
     "metadata": {},
     "output_type": "execute_result"
    }
   ],
   "source": [
    "data_selected"
   ]
  },
  {
   "cell_type": "code",
   "execution_count": 53,
   "metadata": {},
   "outputs": [
    {
     "data": {
      "text/plain": [
       "Text(0, 0.5, 'DEC [degrees]')"
      ]
     },
     "execution_count": 53,
     "metadata": {},
     "output_type": "execute_result"
    },
    {
     "data": {
      "image/png": "[encoded data removed]",
      "text/plain": [
       "<Figure size 864x576 with 1 Axes>"
      ]
     },
     "metadata": {
      "needs_background": "light"
     },
     "output_type": "display_data"
    }
   ],
   "source": [
    "plt.figure(figsize=(12, 8))\n",
    "plt.scatter(data_selected[\"ra\"], data_selected[\"dec\"], s=1)\n",
    "#plt.xlim(0, 50)\n",
    "plt.xlabel(r\"RA [degrees]\")\n",
    "plt.ylabel(r\"DEC [degrees]\")"
   ]
  },
  {
   "cell_type": "code",
   "execution_count": 54,
   "metadata": {},
   "outputs": [],
   "source": [
    "ra = coord.Angle(data_selected['ra']*u.degree)\n",
    "ra = ra.wrap_at(180*u.degree)\n",
    "dec = coord.Angle(data_selected['dec']*u.degree)"
   ]
  },
  {
   "cell_type": "code",
   "execution_count": 55,
   "metadata": {},
   "outputs": [
    {
     "data": {
      "text/plain": [
       "<matplotlib.collections.PathCollection at 0x7f445a022580>"
      ]
     },
     "execution_count": 55,
     "metadata": {},
     "output_type": "execute_result"
    },
    {
     "data": {
      "image/png": "[encoded data removed]",
      "text/plain": [
       "<Figure size 576x432 with 1 Axes>"
      ]
     },
     "metadata": {
      "needs_background": "light"
     },
     "output_type": "display_data"
    }
   ],
   "source": [
    "fig = plt.figure(figsize=(8,6))\n",
    "ax = fig.add_subplot(111, projection=\"mollweide\")\n",
    "ax.scatter(ra.radian, dec.radian)"
   ]
  },
  {
   "cell_type": "code",
   "execution_count": null,
   "metadata": {},
   "outputs": [],
   "source": []
  },
  {
   "cell_type": "code",
   "execution_count": null,
   "metadata": {},
   "outputs": [],
   "source": []
  },
  {
   "cell_type": "markdown",
   "metadata": {},
   "source": [
    "### Parameters Required for surface density\n",
    "\n",
    "Shear compoenents:$\\gamma_1, \\gamma_2$\n",
    "\n",
    "Position angle of the galaxy with respect to halo center: $\\phi$\n",
    "\n",
    "Source and lens redshifts: $z_l, z_s$\n",
    "\n",
    "Galaxy locations: $\\alpha, \\delta$\n",
    "\n",
    "Shear and selection response: $\\mathcal{R}, \\mathcal{R}_s$\n",
    "\n",
    "Squared inverse of the measured shear uncertainty: $$"
   ]
  },
  {
   "cell_type": "code",
   "execution_count": null,
   "metadata": {},
   "outputs": [],
   "source": []
  }
 ],
 "metadata": {
  "kernelspec": {
   "display_name": "Python 3.8 (py38)",
   "language": "python",
   "name": "py38"
  },
  "language_info": {
   "codemirror_mode": {
    "name": "ipython",
    "version": 3
   },
   "file_extension": ".py",
   "mimetype": "text/x-python",
   "name": "python",
   "nbconvert_exporter": "python",
   "pygments_lexer": "ipython3",
   "version": "3.8.5"
  }
 },
 "nbformat": 4,
 "nbformat_minor": 4
}
